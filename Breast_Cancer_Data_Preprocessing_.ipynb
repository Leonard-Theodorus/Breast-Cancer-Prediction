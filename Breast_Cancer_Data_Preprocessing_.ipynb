{
  "nbformat": 4,
  "nbformat_minor": 0,
  "metadata": {
    "colab": {
      "provenance": [],
      "collapsed_sections": [],
      "machine_shape": "hm"
    },
    "kernelspec": {
      "name": "python3",
      "display_name": "Python 3"
    }
  },
  "cells": [
    {
      "cell_type": "code",
      "metadata": {
        "id": "tZRSiDYNQLSr"
      },
      "source": [
        "import os ##importing modules os -> accesing files\n",
        "import numpy as np ## -> create arrays for image after read\n",
        "import pandas as pd ## -> extracting information needed from the dataset"
      ],
      "execution_count": 1,
      "outputs": []
    },
    {
      "cell_type": "code",
      "source": [
        "from google.colab import drive\n",
        "drive.mount('/content/drive')"
      ],
      "metadata": {
        "id": "cE5Syc1kMOqm",
        "colab": {
          "base_uri": "https://localhost:8080/"
        },
        "outputId": "37bc93e0-a7fc-4d1c-d728-aa9cc3de8195"
      },
      "execution_count": 2,
      "outputs": [
        {
          "output_type": "stream",
          "name": "stdout",
          "text": [
            "Mounted at /content/drive\n"
          ]
        }
      ]
    },
    {
      "cell_type": "code",
      "source": [
        "basepath = \"/content/drive/MyDrive\"\n",
        "filename = \"archive.zip\""
      ],
      "metadata": {
        "id": "AaePFQe58ZcU"
      },
      "execution_count": 3,
      "outputs": []
    },
    {
      "cell_type": "code",
      "source": [
        "import zipfile\n",
        "with zipfile.ZipFile(os.path.join(basepath,filename), 'r') as zipObject: ##unzip dataset\n",
        "  zipObject.extractall(path=os.path.join(basepath, \"\"))"
      ],
      "metadata": {
        "id": "4duAv5ldPLnQ"
      },
      "execution_count": null,
      "outputs": []
    },
    {
      "cell_type": "code",
      "source": [
        "mass_train_metadata = pd.read_csv(os.path.join(basepath, \"csv\", \"mass_case_description_train_set.csv\")) ##mass_train dataset"
      ],
      "metadata": {
        "id": "R86tYeabmj9T"
      },
      "execution_count": null,
      "outputs": []
    },
    {
      "cell_type": "code",
      "source": [
        "mass_train_metadata.drop_duplicates(subset=\"patient_id\", keep='first', inplace=True)\n",
        "mass_train_metadata.head() ##removes duplicates (one patient could have multiple images)"
      ],
      "metadata": {
        "colab": {
          "base_uri": "https://localhost:8080/",
          "height": 409
        },
        "id": "TjSIsmLmXa6c",
        "outputId": "b1da61f0-7a7b-4ac3-a83a-5b607ffd1b2a"
      },
      "execution_count": 8,
      "outputs": [
        {
          "output_type": "execute_result",
          "data": {
            "text/plain": [
              "  patient_id  breast_density left or right breast image view  abnormality id  \\\n",
              "0    P_00001               3                 LEFT         CC               1   \n",
              "2    P_00004               3                 LEFT         CC               1   \n",
              "5    P_00009               3                RIGHT         CC               1   \n",
              "7    P_00015               3                 LEFT        MLO               1   \n",
              "8    P_00018               2                RIGHT         CC               1   \n",
              "\n",
              "  abnormality type                          mass shape  \\\n",
              "0             mass  IRREGULAR-ARCHITECTURAL_DISTORTION   \n",
              "2             mass            ARCHITECTURAL_DISTORTION   \n",
              "5             mass                                OVAL   \n",
              "7             mass                           IRREGULAR   \n",
              "8             mass                                OVAL   \n",
              "\n",
              "             mass margins  assessment  pathology  subtlety  \\\n",
              "0              SPICULATED           4  MALIGNANT         4   \n",
              "2             ILL_DEFINED           4     BENIGN         3   \n",
              "5             ILL_DEFINED           4  MALIGNANT         4   \n",
              "7  ILL_DEFINED-SPICULATED           4  MALIGNANT         4   \n",
              "8           CIRCUMSCRIBED           4     BENIGN         5   \n",
              "\n",
              "                                     image file path  \\\n",
              "0  Mass-Training_P_00001_LEFT_CC/1.3.6.1.4.1.9590...   \n",
              "2  Mass-Training_P_00004_LEFT_CC/1.3.6.1.4.1.9590...   \n",
              "5  Mass-Training_P_00009_RIGHT_CC/1.3.6.1.4.1.959...   \n",
              "7  Mass-Training_P_00015_LEFT_MLO/1.3.6.1.4.1.959...   \n",
              "8  Mass-Training_P_00018_RIGHT_CC/1.3.6.1.4.1.959...   \n",
              "\n",
              "                             cropped image file path  \\\n",
              "0  Mass-Training_P_00001_LEFT_CC_1/1.3.6.1.4.1.95...   \n",
              "2  Mass-Training_P_00004_LEFT_CC_1/1.3.6.1.4.1.95...   \n",
              "5  Mass-Training_P_00009_RIGHT_CC_1/1.3.6.1.4.1.9...   \n",
              "7  Mass-Training_P_00015_LEFT_MLO_1/1.3.6.1.4.1.9...   \n",
              "8  Mass-Training_P_00018_RIGHT_CC_1/1.3.6.1.4.1.9...   \n",
              "\n",
              "                                  ROI mask file path  \n",
              "0  Mass-Training_P_00001_LEFT_CC_1/1.3.6.1.4.1.95...  \n",
              "2  Mass-Training_P_00004_LEFT_CC_1/1.3.6.1.4.1.95...  \n",
              "5  Mass-Training_P_00009_RIGHT_CC_1/1.3.6.1.4.1.9...  \n",
              "7  Mass-Training_P_00015_LEFT_MLO_1/1.3.6.1.4.1.9...  \n",
              "8  Mass-Training_P_00018_RIGHT_CC_1/1.3.6.1.4.1.9...  "
            ],
            "text/html": [
              "\n",
              "  <div id=\"df-6ce2fae8-b68d-4e47-a30e-cd1de2d04d27\">\n",
              "    <div class=\"colab-df-container\">\n",
              "      <div>\n",
              "<style scoped>\n",
              "    .dataframe tbody tr th:only-of-type {\n",
              "        vertical-align: middle;\n",
              "    }\n",
              "\n",
              "    .dataframe tbody tr th {\n",
              "        vertical-align: top;\n",
              "    }\n",
              "\n",
              "    .dataframe thead th {\n",
              "        text-align: right;\n",
              "    }\n",
              "</style>\n",
              "<table border=\"1\" class=\"dataframe\">\n",
              "  <thead>\n",
              "    <tr style=\"text-align: right;\">\n",
              "      <th></th>\n",
              "      <th>patient_id</th>\n",
              "      <th>breast_density</th>\n",
              "      <th>left or right breast</th>\n",
              "      <th>image view</th>\n",
              "      <th>abnormality id</th>\n",
              "      <th>abnormality type</th>\n",
              "      <th>mass shape</th>\n",
              "      <th>mass margins</th>\n",
              "      <th>assessment</th>\n",
              "      <th>pathology</th>\n",
              "      <th>subtlety</th>\n",
              "      <th>image file path</th>\n",
              "      <th>cropped image file path</th>\n",
              "      <th>ROI mask file path</th>\n",
              "    </tr>\n",
              "  </thead>\n",
              "  <tbody>\n",
              "    <tr>\n",
              "      <th>0</th>\n",
              "      <td>P_00001</td>\n",
              "      <td>3</td>\n",
              "      <td>LEFT</td>\n",
              "      <td>CC</td>\n",
              "      <td>1</td>\n",
              "      <td>mass</td>\n",
              "      <td>IRREGULAR-ARCHITECTURAL_DISTORTION</td>\n",
              "      <td>SPICULATED</td>\n",
              "      <td>4</td>\n",
              "      <td>MALIGNANT</td>\n",
              "      <td>4</td>\n",
              "      <td>Mass-Training_P_00001_LEFT_CC/1.3.6.1.4.1.9590...</td>\n",
              "      <td>Mass-Training_P_00001_LEFT_CC_1/1.3.6.1.4.1.95...</td>\n",
              "      <td>Mass-Training_P_00001_LEFT_CC_1/1.3.6.1.4.1.95...</td>\n",
              "    </tr>\n",
              "    <tr>\n",
              "      <th>2</th>\n",
              "      <td>P_00004</td>\n",
              "      <td>3</td>\n",
              "      <td>LEFT</td>\n",
              "      <td>CC</td>\n",
              "      <td>1</td>\n",
              "      <td>mass</td>\n",
              "      <td>ARCHITECTURAL_DISTORTION</td>\n",
              "      <td>ILL_DEFINED</td>\n",
              "      <td>4</td>\n",
              "      <td>BENIGN</td>\n",
              "      <td>3</td>\n",
              "      <td>Mass-Training_P_00004_LEFT_CC/1.3.6.1.4.1.9590...</td>\n",
              "      <td>Mass-Training_P_00004_LEFT_CC_1/1.3.6.1.4.1.95...</td>\n",
              "      <td>Mass-Training_P_00004_LEFT_CC_1/1.3.6.1.4.1.95...</td>\n",
              "    </tr>\n",
              "    <tr>\n",
              "      <th>5</th>\n",
              "      <td>P_00009</td>\n",
              "      <td>3</td>\n",
              "      <td>RIGHT</td>\n",
              "      <td>CC</td>\n",
              "      <td>1</td>\n",
              "      <td>mass</td>\n",
              "      <td>OVAL</td>\n",
              "      <td>ILL_DEFINED</td>\n",
              "      <td>4</td>\n",
              "      <td>MALIGNANT</td>\n",
              "      <td>4</td>\n",
              "      <td>Mass-Training_P_00009_RIGHT_CC/1.3.6.1.4.1.959...</td>\n",
              "      <td>Mass-Training_P_00009_RIGHT_CC_1/1.3.6.1.4.1.9...</td>\n",
              "      <td>Mass-Training_P_00009_RIGHT_CC_1/1.3.6.1.4.1.9...</td>\n",
              "    </tr>\n",
              "    <tr>\n",
              "      <th>7</th>\n",
              "      <td>P_00015</td>\n",
              "      <td>3</td>\n",
              "      <td>LEFT</td>\n",
              "      <td>MLO</td>\n",
              "      <td>1</td>\n",
              "      <td>mass</td>\n",
              "      <td>IRREGULAR</td>\n",
              "      <td>ILL_DEFINED-SPICULATED</td>\n",
              "      <td>4</td>\n",
              "      <td>MALIGNANT</td>\n",
              "      <td>4</td>\n",
              "      <td>Mass-Training_P_00015_LEFT_MLO/1.3.6.1.4.1.959...</td>\n",
              "      <td>Mass-Training_P_00015_LEFT_MLO_1/1.3.6.1.4.1.9...</td>\n",
              "      <td>Mass-Training_P_00015_LEFT_MLO_1/1.3.6.1.4.1.9...</td>\n",
              "    </tr>\n",
              "    <tr>\n",
              "      <th>8</th>\n",
              "      <td>P_00018</td>\n",
              "      <td>2</td>\n",
              "      <td>RIGHT</td>\n",
              "      <td>CC</td>\n",
              "      <td>1</td>\n",
              "      <td>mass</td>\n",
              "      <td>OVAL</td>\n",
              "      <td>CIRCUMSCRIBED</td>\n",
              "      <td>4</td>\n",
              "      <td>BENIGN</td>\n",
              "      <td>5</td>\n",
              "      <td>Mass-Training_P_00018_RIGHT_CC/1.3.6.1.4.1.959...</td>\n",
              "      <td>Mass-Training_P_00018_RIGHT_CC_1/1.3.6.1.4.1.9...</td>\n",
              "      <td>Mass-Training_P_00018_RIGHT_CC_1/1.3.6.1.4.1.9...</td>\n",
              "    </tr>\n",
              "  </tbody>\n",
              "</table>\n",
              "</div>\n",
              "      <button class=\"colab-df-convert\" onclick=\"convertToInteractive('df-6ce2fae8-b68d-4e47-a30e-cd1de2d04d27')\"\n",
              "              title=\"Convert this dataframe to an interactive table.\"\n",
              "              style=\"display:none;\">\n",
              "        \n",
              "  <svg xmlns=\"http://www.w3.org/2000/svg\" height=\"24px\"viewBox=\"0 0 24 24\"\n",
              "       width=\"24px\">\n",
              "    <path d=\"M0 0h24v24H0V0z\" fill=\"none\"/>\n",
              "    <path d=\"M18.56 5.44l.94 2.06.94-2.06 2.06-.94-2.06-.94-.94-2.06-.94 2.06-2.06.94zm-11 1L8.5 8.5l.94-2.06 2.06-.94-2.06-.94L8.5 2.5l-.94 2.06-2.06.94zm10 10l.94 2.06.94-2.06 2.06-.94-2.06-.94-.94-2.06-.94 2.06-2.06.94z\"/><path d=\"M17.41 7.96l-1.37-1.37c-.4-.4-.92-.59-1.43-.59-.52 0-1.04.2-1.43.59L10.3 9.45l-7.72 7.72c-.78.78-.78 2.05 0 2.83L4 21.41c.39.39.9.59 1.41.59.51 0 1.02-.2 1.41-.59l7.78-7.78 2.81-2.81c.8-.78.8-2.07 0-2.86zM5.41 20L4 18.59l7.72-7.72 1.47 1.35L5.41 20z\"/>\n",
              "  </svg>\n",
              "      </button>\n",
              "      \n",
              "  <style>\n",
              "    .colab-df-container {\n",
              "      display:flex;\n",
              "      flex-wrap:wrap;\n",
              "      gap: 12px;\n",
              "    }\n",
              "\n",
              "    .colab-df-convert {\n",
              "      background-color: #E8F0FE;\n",
              "      border: none;\n",
              "      border-radius: 50%;\n",
              "      cursor: pointer;\n",
              "      display: none;\n",
              "      fill: #1967D2;\n",
              "      height: 32px;\n",
              "      padding: 0 0 0 0;\n",
              "      width: 32px;\n",
              "    }\n",
              "\n",
              "    .colab-df-convert:hover {\n",
              "      background-color: #E2EBFA;\n",
              "      box-shadow: 0px 1px 2px rgba(60, 64, 67, 0.3), 0px 1px 3px 1px rgba(60, 64, 67, 0.15);\n",
              "      fill: #174EA6;\n",
              "    }\n",
              "\n",
              "    [theme=dark] .colab-df-convert {\n",
              "      background-color: #3B4455;\n",
              "      fill: #D2E3FC;\n",
              "    }\n",
              "\n",
              "    [theme=dark] .colab-df-convert:hover {\n",
              "      background-color: #434B5C;\n",
              "      box-shadow: 0px 1px 3px 1px rgba(0, 0, 0, 0.15);\n",
              "      filter: drop-shadow(0px 1px 2px rgba(0, 0, 0, 0.3));\n",
              "      fill: #FFFFFF;\n",
              "    }\n",
              "  </style>\n",
              "\n",
              "      <script>\n",
              "        const buttonEl =\n",
              "          document.querySelector('#df-6ce2fae8-b68d-4e47-a30e-cd1de2d04d27 button.colab-df-convert');\n",
              "        buttonEl.style.display =\n",
              "          google.colab.kernel.accessAllowed ? 'block' : 'none';\n",
              "\n",
              "        async function convertToInteractive(key) {\n",
              "          const element = document.querySelector('#df-6ce2fae8-b68d-4e47-a30e-cd1de2d04d27');\n",
              "          const dataTable =\n",
              "            await google.colab.kernel.invokeFunction('convertToInteractive',\n",
              "                                                     [key], {});\n",
              "          if (!dataTable) return;\n",
              "\n",
              "          const docLinkHtml = 'Like what you see? Visit the ' +\n",
              "            '<a target=\"_blank\" href=https://colab.research.google.com/notebooks/data_table.ipynb>data table notebook</a>'\n",
              "            + ' to learn more about interactive tables.';\n",
              "          element.innerHTML = '';\n",
              "          dataTable['output_type'] = 'display_data';\n",
              "          await google.colab.output.renderOutput(dataTable, element);\n",
              "          const docLink = document.createElement('div');\n",
              "          docLink.innerHTML = docLinkHtml;\n",
              "          element.appendChild(docLink);\n",
              "        }\n",
              "      </script>\n",
              "    </div>\n",
              "  </div>\n",
              "  "
            ]
          },
          "metadata": {},
          "execution_count": 8
        }
      ]
    },
    {
      "cell_type": "code",
      "source": [
        "def get_image_file(): ##utility function to get image file path sub-dataset\n",
        "  train_data = []\n",
        "  for rows in mass_train_metadata.itertuples():\n",
        "    id = rows.patient_id\n",
        "    corresponding_row = mass_train_metadata[mass_train_metadata.patient_id == id]\n",
        "    corresponding_row = corresponding_row[['patient_id', 'image file path', 'pathology']]\n",
        "    train_data.append(corresponding_row)\n",
        "  return train_data"
      ],
      "metadata": {
        "id": "FB8Nj1Wnm-pd"
      },
      "execution_count": 20,
      "outputs": []
    },
    {
      "cell_type": "code",
      "source": [
        "train_data = get_image_file() ##train_data now includes, patient_id, the file path, and label"
      ],
      "metadata": {
        "colab": {
          "base_uri": "https://localhost:8080/",
          "height": 81
        },
        "id": "1dE19sMf3ey3",
        "outputId": "a448b9b9-35b1-4cc8-9623-43c3bdb97f72"
      },
      "execution_count": 64,
      "outputs": [
        {
          "output_type": "execute_result",
          "data": {
            "text/plain": [
              "  patient_id                                    image file path  pathology\n",
              "0    P_00001  Mass-Training_P_00001_LEFT_CC/1.3.6.1.4.1.9590...  MALIGNANT"
            ],
            "text/html": [
              "\n",
              "  <div id=\"df-05ff03cb-e8ef-4338-8463-108f4f796b25\">\n",
              "    <div class=\"colab-df-container\">\n",
              "      <div>\n",
              "<style scoped>\n",
              "    .dataframe tbody tr th:only-of-type {\n",
              "        vertical-align: middle;\n",
              "    }\n",
              "\n",
              "    .dataframe tbody tr th {\n",
              "        vertical-align: top;\n",
              "    }\n",
              "\n",
              "    .dataframe thead th {\n",
              "        text-align: right;\n",
              "    }\n",
              "</style>\n",
              "<table border=\"1\" class=\"dataframe\">\n",
              "  <thead>\n",
              "    <tr style=\"text-align: right;\">\n",
              "      <th></th>\n",
              "      <th>patient_id</th>\n",
              "      <th>image file path</th>\n",
              "      <th>pathology</th>\n",
              "    </tr>\n",
              "  </thead>\n",
              "  <tbody>\n",
              "    <tr>\n",
              "      <th>0</th>\n",
              "      <td>P_00001</td>\n",
              "      <td>Mass-Training_P_00001_LEFT_CC/1.3.6.1.4.1.9590...</td>\n",
              "      <td>MALIGNANT</td>\n",
              "    </tr>\n",
              "  </tbody>\n",
              "</table>\n",
              "</div>\n",
              "      <button class=\"colab-df-convert\" onclick=\"convertToInteractive('df-05ff03cb-e8ef-4338-8463-108f4f796b25')\"\n",
              "              title=\"Convert this dataframe to an interactive table.\"\n",
              "              style=\"display:none;\">\n",
              "        \n",
              "  <svg xmlns=\"http://www.w3.org/2000/svg\" height=\"24px\"viewBox=\"0 0 24 24\"\n",
              "       width=\"24px\">\n",
              "    <path d=\"M0 0h24v24H0V0z\" fill=\"none\"/>\n",
              "    <path d=\"M18.56 5.44l.94 2.06.94-2.06 2.06-.94-2.06-.94-.94-2.06-.94 2.06-2.06.94zm-11 1L8.5 8.5l.94-2.06 2.06-.94-2.06-.94L8.5 2.5l-.94 2.06-2.06.94zm10 10l.94 2.06.94-2.06 2.06-.94-2.06-.94-.94-2.06-.94 2.06-2.06.94z\"/><path d=\"M17.41 7.96l-1.37-1.37c-.4-.4-.92-.59-1.43-.59-.52 0-1.04.2-1.43.59L10.3 9.45l-7.72 7.72c-.78.78-.78 2.05 0 2.83L4 21.41c.39.39.9.59 1.41.59.51 0 1.02-.2 1.41-.59l7.78-7.78 2.81-2.81c.8-.78.8-2.07 0-2.86zM5.41 20L4 18.59l7.72-7.72 1.47 1.35L5.41 20z\"/>\n",
              "  </svg>\n",
              "      </button>\n",
              "      \n",
              "  <style>\n",
              "    .colab-df-container {\n",
              "      display:flex;\n",
              "      flex-wrap:wrap;\n",
              "      gap: 12px;\n",
              "    }\n",
              "\n",
              "    .colab-df-convert {\n",
              "      background-color: #E8F0FE;\n",
              "      border: none;\n",
              "      border-radius: 50%;\n",
              "      cursor: pointer;\n",
              "      display: none;\n",
              "      fill: #1967D2;\n",
              "      height: 32px;\n",
              "      padding: 0 0 0 0;\n",
              "      width: 32px;\n",
              "    }\n",
              "\n",
              "    .colab-df-convert:hover {\n",
              "      background-color: #E2EBFA;\n",
              "      box-shadow: 0px 1px 2px rgba(60, 64, 67, 0.3), 0px 1px 3px 1px rgba(60, 64, 67, 0.15);\n",
              "      fill: #174EA6;\n",
              "    }\n",
              "\n",
              "    [theme=dark] .colab-df-convert {\n",
              "      background-color: #3B4455;\n",
              "      fill: #D2E3FC;\n",
              "    }\n",
              "\n",
              "    [theme=dark] .colab-df-convert:hover {\n",
              "      background-color: #434B5C;\n",
              "      box-shadow: 0px 1px 3px 1px rgba(0, 0, 0, 0.15);\n",
              "      filter: drop-shadow(0px 1px 2px rgba(0, 0, 0, 0.3));\n",
              "      fill: #FFFFFF;\n",
              "    }\n",
              "  </style>\n",
              "\n",
              "      <script>\n",
              "        const buttonEl =\n",
              "          document.querySelector('#df-05ff03cb-e8ef-4338-8463-108f4f796b25 button.colab-df-convert');\n",
              "        buttonEl.style.display =\n",
              "          google.colab.kernel.accessAllowed ? 'block' : 'none';\n",
              "\n",
              "        async function convertToInteractive(key) {\n",
              "          const element = document.querySelector('#df-05ff03cb-e8ef-4338-8463-108f4f796b25');\n",
              "          const dataTable =\n",
              "            await google.colab.kernel.invokeFunction('convertToInteractive',\n",
              "                                                     [key], {});\n",
              "          if (!dataTable) return;\n",
              "\n",
              "          const docLinkHtml = 'Like what you see? Visit the ' +\n",
              "            '<a target=\"_blank\" href=https://colab.research.google.com/notebooks/data_table.ipynb>data table notebook</a>'\n",
              "            + ' to learn more about interactive tables.';\n",
              "          element.innerHTML = '';\n",
              "          dataTable['output_type'] = 'display_data';\n",
              "          await google.colab.output.renderOutput(dataTable, element);\n",
              "          const docLink = document.createElement('div');\n",
              "          docLink.innerHTML = docLinkHtml;\n",
              "          element.appendChild(docLink);\n",
              "        }\n",
              "      </script>\n",
              "    </div>\n",
              "  </div>\n",
              "  "
            ]
          },
          "metadata": {},
          "execution_count": 64
        }
      ]
    },
    {
      "cell_type": "code",
      "source": [
        "for x in range (len(train_data)):   ## get the image directory\n",
        "  z = train_data[x]['image file path'].str.split(\"/\")\n",
        "  z = list(z)\n",
        "  img_filename = z[0][2]\n",
        "  train_data[x]['img_file'] = img_filename"
      ],
      "metadata": {
        "id": "F8i2awN0P9OD"
      },
      "execution_count": 68,
      "outputs": []
    },
    {
      "cell_type": "code",
      "source": [
        "def replace_label(train_data): ##replace label from string into integers\n",
        "  for x in range(len(train_data)):\n",
        "    if(train_data[x]['pathology'].item() == \"MALIGNANT\"):\n",
        "      train_data[x]['pathology'] = int(2)\n",
        "    elif(train_data[x]['pathology'].item() == \"BENIGN\"):\n",
        "      train_data[x]['pathology'] = int(0)\n",
        "    else:\n",
        "      train_data[x]['pathology'] = int(1)"
      ],
      "metadata": {
        "id": "X6e8F_su-ZXA"
      },
      "execution_count": 76,
      "outputs": []
    },
    {
      "cell_type": "code",
      "source": [
        "replace_label(train_data)"
      ],
      "metadata": {
        "id": "Qnjv1CMbA-l7"
      },
      "execution_count": 77,
      "outputs": []
    },
    {
      "cell_type": "code",
      "source": [
        "import cv2 as cv"
      ],
      "metadata": {
        "id": "VGtHo8-HELAx"
      },
      "execution_count": 79,
      "outputs": []
    },
    {
      "cell_type": "code",
      "source": [
        "def process_img(data): ##read image using openCV\n",
        "  dataset = []\n",
        "  for x in range(len(data)):\n",
        "    img_folder = data[x]['img_file'].item()\n",
        "    img_label = data[x]['pathology'].item()\n",
        "    img_file_path = os.path.join(basepath, \"jpeg\", img_folder)\n",
        "    img_file_path = os.path.join(img_file_path, os.listdir(img_file_path)[0])\n",
        "    image = cv.imread(img_file_path)\n",
        "\n",
        "    try:\n",
        "      resized = cv.resize(image, (128,128)) ## resize image into 128x128\n",
        "      dataset.append([resized, img_label])\n",
        "    except Exception as e:\n",
        "      print(e)\n",
        "  return dataset\n"
      ],
      "metadata": {
        "id": "2pOFDD6OEuCh"
      },
      "execution_count": 119,
      "outputs": []
    },
    {
      "cell_type": "code",
      "source": [
        "train_img_label = process_img(train_data)"
      ],
      "metadata": {
        "id": "upaCtCSfaPCY"
      },
      "execution_count": 96,
      "outputs": []
    },
    {
      "cell_type": "code",
      "source": [
        "from random import shuffle ##shuffle the image dataset\n",
        "shuffle(train_img_label)"
      ],
      "metadata": {
        "id": "n8yQ_ptNdjJT"
      },
      "execution_count": 98,
      "outputs": []
    },
    {
      "cell_type": "code",
      "source": [
        "train_data = []\n",
        "train_label = []\n",
        "for data,label in train_img_label:\n",
        "  train_data.append(data) ## append image to one list, and the label to the other (later on used to create the tensors)\n",
        "  train_label.append(label)"
      ],
      "metadata": {
        "id": "ZJ4dDt26kvR9"
      },
      "execution_count": 101,
      "outputs": []
    },
    {
      "cell_type": "code",
      "source": [
        "train_data = np.array(train_data) / 255 ##normalization\n",
        "train_label = np.array(train_label)"
      ],
      "metadata": {
        "id": "XpMqh1DzlOcW"
      },
      "execution_count": 111,
      "outputs": []
    },
    {
      "cell_type": "code",
      "source": [
        "import tensorflow as tf\n",
        "keras = tf.keras\n",
        "train_label = keras.utils.to_categorical(train_label) ##turns label to one-hot encoding\n",
        "print(train_label)"
      ],
      "metadata": {
        "colab": {
          "base_uri": "https://localhost:8080/"
        },
        "id": "vUtfKi1rk9p2",
        "outputId": "8109e22c-162e-4d91-e0bd-5376e484040a"
      },
      "execution_count": 107,
      "outputs": [
        {
          "output_type": "stream",
          "name": "stdout",
          "text": [
            "[[1. 0. 0.]\n",
            " [1. 0. 0.]\n",
            " [0. 0. 1.]\n",
            " ...\n",
            " [0. 0. 1.]\n",
            " [0. 1. 0.]\n",
            " [1. 0. 0.]]\n"
          ]
        }
      ]
    },
    {
      "cell_type": "code",
      "source": [
        "np.save('traindata', train_data) ## save the data\n",
        "np.save('trainlabel', train_label)"
      ],
      "metadata": {
        "id": "eNPGzrJXl0Oo"
      },
      "execution_count": 113,
      "outputs": []
    },
    {
      "cell_type": "markdown",
      "source": [
        "Code below does the same procedure except for the test dataset"
      ],
      "metadata": {
        "id": "sW2I2kk847vR"
      }
    },
    {
      "cell_type": "code",
      "source": [
        "mass_test_metadata = pd.read_csv(os.path.join(basepath, \"csv\", \"mass_case_description_test_set.csv\"))\n",
        "mass_test_metadata.drop_duplicates(subset=\"patient_id\", keep='first', inplace=True)\n",
        "mass_test_metadata.head()"
      ],
      "metadata": {
        "id": "tTIfj3JzoTEw"
      },
      "execution_count": null,
      "outputs": []
    },
    {
      "cell_type": "code",
      "source": [
        "test_data = []\n",
        "for rows in mass_test_metadata.itertuples():\n",
        "    id = rows.patient_id\n",
        "    corresponding_row = mass_test_metadata[mass_test_metadata.patient_id == id]\n",
        "    corresponding_row = corresponding_row[['patient_id', 'image file path', 'pathology']]\n",
        "    test_data.append(corresponding_row)"
      ],
      "metadata": {
        "id": "q-HnYmTjpRU2"
      },
      "execution_count": 116,
      "outputs": []
    },
    {
      "cell_type": "code",
      "source": [
        "replace_label(test_data)"
      ],
      "metadata": {
        "id": "J7BTIKyYsDyr"
      },
      "execution_count": null,
      "outputs": []
    },
    {
      "cell_type": "code",
      "source": [
        "for x in range (len(test_data)):   \n",
        "  z = test_data[x]['image file path'].str.split(\"/\")\n",
        "  z = list(z)\n",
        "  img_filename = z[0][2]\n",
        "  test_data[x]['img_file'] = img_filename"
      ],
      "metadata": {
        "id": "xSsDSaVqsimR"
      },
      "execution_count": 122,
      "outputs": []
    },
    {
      "cell_type": "code",
      "source": [
        "test_img_label = process_img(test_data)"
      ],
      "metadata": {
        "id": "dc7Wnuw9sNDE"
      },
      "execution_count": 123,
      "outputs": []
    },
    {
      "cell_type": "code",
      "source": [
        "shuffle(test_img_label)"
      ],
      "metadata": {
        "id": "ZtSFB29AuSFo"
      },
      "execution_count": 124,
      "outputs": []
    },
    {
      "cell_type": "code",
      "source": [
        "test_data = []\n",
        "test_label = []\n",
        "for data,label in train_img_label:\n",
        "  test_data.append(data)\n",
        "  test_label.append(label)"
      ],
      "metadata": {
        "id": "oPs5HzXiuUF7"
      },
      "execution_count": 125,
      "outputs": []
    },
    {
      "cell_type": "code",
      "source": [
        "test_data = np.array(test_data) / 255\n",
        "test_label = np.array(test_label)"
      ],
      "metadata": {
        "id": "WV-1WCPPuZmC"
      },
      "execution_count": 126,
      "outputs": []
    },
    {
      "cell_type": "code",
      "source": [
        "test_label = keras.utils.to_categorical(test_label)\n",
        "print(test_label)"
      ],
      "metadata": {
        "id": "s0fBJsisueyA"
      },
      "execution_count": null,
      "outputs": []
    },
    {
      "cell_type": "code",
      "source": [
        "np.save('testdata', test_data)\n",
        "np.save('testlabel', test_label)"
      ],
      "metadata": {
        "id": "YzQkrL28ujGU"
      },
      "execution_count": 130,
      "outputs": []
    }
  ]
}